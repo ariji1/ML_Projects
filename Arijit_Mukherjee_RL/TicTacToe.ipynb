{
 "cells": [
  {
   "cell_type": "markdown",
   "metadata": {},
   "source": [
    "## Tic-Tac-Toe Agent\n",
    "​\n",
    "In this notebook, you will learn to build an RL agent (using Q-learning) that learns to play Numerical Tic-Tac-Toe with odd numbers. The environment is playing randomly with the agent, i.e. its strategy is to put an even number randomly in an empty cell. The following is the layout of the notebook:\n",
    "        - Defining epsilon-greedy strategy\n",
    "        - Tracking state-action pairs for convergence\n",
    "        - Define hyperparameters for the Q-learning algorithm\n",
    "        - Generating episode and applying Q-update equation\n",
    "        - Checking convergence in Q-values"
   ]
  },
  {
   "cell_type": "markdown",
   "metadata": {},
   "source": [
    "#### Importing libraries\n",
    "Write the code to import Tic-Tac-Toe class from the environment file"
   ]
  },
  {
   "cell_type": "markdown",
   "metadata": {},
   "source": [
    "#### Importing libraries"
   ]
  },
  {
   "cell_type": "code",
   "execution_count": 20,
   "metadata": {},
   "outputs": [],
   "source": [
    "import collections\n",
    "import numpy as np\n",
    "import random\n",
    "import pickle\n",
    "import collections\n",
    "from matplotlib import pyplot as plt\n",
    "import time"
   ]
  },
  {
   "cell_type": "code",
   "execution_count": 21,
   "metadata": {},
   "outputs": [],
   "source": [
    "class Qlearning:\n",
    "    # Define hyperparameters  ---write your code here\n",
    "    def __init__(self, epsilon=0.2, alpha=0.3, gamma=0.9, values=[]):\n",
    "        self.epsilon=epsilon\n",
    "        self.alpha=alpha\n",
    "        self.gamma=gamma\n",
    "        self.Q = {} #Q Dictionary\n",
    "        self.last_board=None\n",
    "        self.q_last=0.0\n",
    "        self.state_action_last=None\n",
    "        self.values = values\n",
    "        self.options = []\n",
    "\n",
    "    # Reset \n",
    "    def game_begin(self):\n",
    "        self.last_board = None\n",
    "        self.q_last = 0.0\n",
    "        self.state_action_last = None\n",
    "        self.options = self.values.copy()\n",
    "    \n",
    "    def getQ(self, state, action): #get Q.\n",
    "        if(self.Q.get((state,action))) is None:\n",
    "            self.Q[(state,action)] = 1.0\n",
    "        return self.Q.get((state,action))\n",
    "    # esplion greedy stratergy\n",
    "    def epslion_greedy(self, state, actions): #esplion greedy algorithm\n",
    "        self.last_board = tuple(state)\n",
    "        if(random.random() < self.epsilon):\n",
    "            move = random.choice(actions) ##action\n",
    "            self.state_action_last=(self.last_board,move)\n",
    "            self.q_last=self.getQ(self.last_board,move)\n",
    "            return move\n",
    "        else: #greedy strategy\n",
    "            state_list=[]\n",
    "            for action in actions:\n",
    "                state_list.append(self.getQ(self.last_board,action))\n",
    "            maxQ=max(state_list)\n",
    "\n",
    "            if state_list.count(maxQ) > 1:\n",
    "                # more than 1 best option; choose among them randomly\n",
    "                p = len(actions)\n",
    "                best = [i for i in range(p) if state_list[i] == maxQ]\n",
    "                i = random.choice(best)\n",
    "            else:\n",
    "                i = state_list.index(maxQ)\n",
    "            self.state_action_last = (self.last_board, actions[i])\n",
    "            self.q_last = self.getQ(self.last_board, actions[i])\n",
    "            return actions[i]\n",
    "\n",
    "    def updateQ(self, reward, state, actions): # update Q states.\n",
    "        q_list=[]\n",
    "        for moves in actions:\n",
    "            q_list.append(self.getQ(tuple(state), moves))\n",
    "        if q_list:\n",
    "            max_q_next = max(q_list)\n",
    "        else:\n",
    "            max_q_next = 0.0\n",
    "        self.Q[self.state_action_last] = self.q_last + self.alpha * ((reward + self.gamma*max_q_next) - self.q_last)\n",
    "\n",
    "    def saveQ(self,file_name):  #save table\n",
    "        with open(file_name +'.pkl', 'wb') as handle:\n",
    "            pickle.dump(self.Q, handle, protocol=pickle.HIGHEST_PROTOCOL)\n",
    "            print(len(self.Q.keys())) \n",
    "\n",
    "    def loadQ(self,file_name): # load table\n",
    "        with open(file_name + '.pkl', 'rb') as handle:\n",
    "            self.Q = pickle.load(handle)"
   ]
  },
  {
   "cell_type": "code",
   "execution_count": 22,
   "metadata": {},
   "outputs": [],
   "source": [
    "from TC_Env import TicTacToe\n",
    "game = TicTacToe() #game instance"
   ]
  },
  {
   "cell_type": "code",
   "execution_count": 23,
   "metadata": {},
   "outputs": [],
   "source": [
    "player1 =  Qlearning(values=[1,3,5,7,9]) #odd for agent\n",
    "player2 =  Qlearning(values=[2,4,6,8]) #"
   ]
  },
  {
   "cell_type": "code",
   "execution_count": 40,
   "metadata": {},
   "outputs": [
    {
     "name": "stdout",
     "output_type": "stream",
     "text": [
      "Training Started\n",
      "Training Done\n"
     ]
    }
   ],
   "source": [
    "game.startTraining(player1,player2, 3000000, verbose=False) #train for 3,000,000 iterations."
   ]
  },
  {
   "cell_type": "code",
   "execution_count": 41,
   "metadata": {},
   "outputs": [
    {
     "name": "stdout",
     "output_type": "stream",
     "text": [
      "9928591\n",
      "5968767\n"
     ]
    }
   ],
   "source": [
    "game.saveStates()  #save Q values"
   ]
  },
  {
   "cell_type": "code",
   "execution_count": 42,
   "metadata": {},
   "outputs": [],
   "source": [
    "#Q Value list\n",
    "odd_player_Q, even_player_Q = game.getQ()"
   ]
  },
  {
   "cell_type": "code",
   "execution_count": 43,
   "metadata": {},
   "outputs": [
    {
     "data": {
      "text/plain": [
       "9928591"
      ]
     },
     "execution_count": 43,
     "metadata": {},
     "output_type": "execute_result"
    }
   ],
   "source": [
    "len(odd_player_Q)"
   ]
  },
  {
   "cell_type": "code",
   "execution_count": 44,
   "metadata": {},
   "outputs": [
    {
     "data": {
      "text/plain": [
       "5968767"
      ]
     },
     "execution_count": 44,
     "metadata": {},
     "output_type": "execute_result"
    }
   ],
   "source": [
    "len(even_player_Q)"
   ]
  },
  {
   "cell_type": "code",
   "execution_count": 45,
   "metadata": {},
   "outputs": [
    {
     "data": {
      "text/plain": [
       "-2.876651845579002"
      ]
     },
     "execution_count": 45,
     "metadata": {},
     "output_type": "execute_result"
    }
   ],
   "source": [
    "odd_player_Q[((0, 0, 0, 0, 0, 0, 0, 0, 0), 1)]"
   ]
  },
  {
   "cell_type": "code",
   "execution_count": 46,
   "metadata": {},
   "outputs": [
    {
     "data": {
      "text/plain": [
       "-3.61037807996936"
      ]
     },
     "execution_count": 46,
     "metadata": {},
     "output_type": "execute_result"
    }
   ],
   "source": [
    "odd_player_Q[((0, 0, 0, 0, 0, 0, 0, 0, 0), 2)]"
   ]
  },
  {
   "cell_type": "markdown",
   "metadata": {
    "colab_type": "text",
    "id": "b2Opp8_NITkC"
   },
   "source": [
    "### Epsilon - decay check"
   ]
  },
  {
   "cell_type": "code",
   "execution_count": 38,
   "metadata": {
    "colab": {},
    "colab_type": "code",
    "id": "gQ_D_JsuGghR"
   },
   "outputs": [],
   "source": [
    "max_epsilon = 1.0\n",
    "min_epsilon = 0.001\n",
    "time = np.arange(0,5000000)\n",
    "epsilon = []\n",
    "for i in range(0,5000000):\n",
    "    epsilon.append(min_epsilon + (max_epsilon - min_epsilon) * np.exp(-0.000001*i))"
   ]
  },
  {
   "cell_type": "code",
   "execution_count": 39,
   "metadata": {
    "colab": {
     "base_uri": "https://localhost:8080/",
     "height": 347
    },
    "colab_type": "code",
    "id": "J7c2xADQGghV",
    "outputId": "cb60fce3-570b-45fb-bd83-abde3d13b273"
   },
   "outputs": [
    {
     "data": {
      "image/png": "[encoded data removed]",
      "text/plain": [
       "<Figure size 432x288 with 1 Axes>"
      ]
     },
     "metadata": {
      "needs_background": "light"
     },
     "output_type": "display_data"
    }
   ],
   "source": [
    "plt.plot(time, epsilon)\n",
    "plt.show()"
   ]
  },
  {
   "cell_type": "code",
   "execution_count": null,
   "metadata": {},
   "outputs": [],
   "source": []
  },
  {
   "cell_type": "code",
   "execution_count": null,
   "metadata": {},
   "outputs": [],
   "source": []
  }
 ],
 "metadata": {
  "kernelspec": {
   "display_name": "Python 3",
   "language": "python",
   "name": "python3"
  },
  "language_info": {
   "codemirror_mode": {
    "name": "ipython",
    "version": 3
   },
   "file_extension": ".py",
   "mimetype": "text/x-python",
   "name": "python",
   "nbconvert_exporter": "python",
   "pygments_lexer": "ipython3",
   "version": "3.7.3"
  }
 },
 "nbformat": 4,
 "nbformat_minor": 2
}
